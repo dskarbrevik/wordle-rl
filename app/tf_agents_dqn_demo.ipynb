{
 "cells": [
  {
   "cell_type": "markdown",
   "id": "113b576c-ebd1-456a-a2c1-d7bf535d7ec3",
   "metadata": {},
   "source": [
    "# Testing tf-agents library on Wordle Env"
   ]
  },
  {
   "cell_type": "markdown",
   "id": "2ab22ce9-f8ed-4b3f-a3d2-fa2e8efffb88",
   "metadata": {},
   "source": [
    "This is a recreation of the TF Agents DQN tutorial:\n",
    "https://www.tensorflow.org/agents/tutorials/1_dqn_tutorial"
   ]
  },
  {
   "cell_type": "code",
   "execution_count": 1,
   "id": "09e60219-2911-452f-ab16-d3b4d88bb595",
   "metadata": {},
   "outputs": [
    {
     "name": "stderr",
     "output_type": "stream",
     "text": [
      "2022-02-16 19:17:00.535878: W tensorflow/stream_executor/platform/default/dso_loader.cc:64] Could not load dynamic library 'libcudart.so.11.0'; dlerror: libcudart.so.11.0: cannot open shared object file: No such file or directory\n",
      "2022-02-16 19:17:00.535923: I tensorflow/stream_executor/cuda/cudart_stub.cc:29] Ignore above cudart dlerror if you do not have a GPU set up on your machine.\n"
     ]
    }
   ],
   "source": [
    "from tqdm import tqdm\n",
    "from wordle_rl import WordleEnv\n",
    "\n",
    "# import gym\n",
    "\n",
    "import tensorflow as tf\n",
    "import numpy as np\n",
    "\n",
    "import tf_agents\n",
    "import reverb\n",
    "\n",
    "from tf_agents.agents.dqn import dqn_agent\n",
    "from tf_agents.drivers import py_driver\n",
    "from tf_agents.drivers import dynamic_episode_driver\n",
    "\n",
    "from tf_agents.environments import suite_gym\n",
    "from tf_agents.environments import tf_py_environment\n",
    "from tf_agents.eval import metric_utils\n",
    "from tf_agents.metrics import tf_metrics\n",
    "from tf_agents.networks import sequential\n",
    "from tf_agents.policies import py_tf_eager_policy\n",
    "from tf_agents.policies import random_tf_policy\n",
    "from tf_agents.replay_buffers import reverb_replay_buffer\n",
    "from tf_agents.replay_buffers import reverb_utils\n",
    "from tf_agents.trajectories import trajectory\n",
    "from tf_agents.specs import tensor_spec\n",
    "from tf_agents.utils import common\n",
    "\n",
    "\n",
    "from tf_agents.environments import py_environment\n",
    "from tf_agents.environments import tf_environment\n",
    "from tf_agents.environments import tf_py_environment\n",
    "from tf_agents.environments import utils\n",
    "from tf_agents.specs import array_spec\n",
    "from tf_agents.environments import wrappers\n",
    "from tf_agents.environments import suite_gym\n",
    "from tf_agents.trajectories import time_step as ts"
   ]
  },
  {
   "cell_type": "code",
   "execution_count": 2,
   "id": "4af75efd-1790-4cbd-9666-bb1d6eb973a3",
   "metadata": {},
   "outputs": [],
   "source": [
    "import warnings\n",
    "warnings.filterwarnings(\"ignore\")"
   ]
  },
  {
   "cell_type": "markdown",
   "id": "d0305e9d-b9e8-4775-ad98-72592a20ab54",
   "metadata": {},
   "source": [
    "### 1) Hyperparameters of this demo"
   ]
  },
  {
   "cell_type": "code",
   "execution_count": 3,
   "id": "a22cc740-e5d6-421b-a840-8dec54a7ec26",
   "metadata": {},
   "outputs": [],
   "source": [
    "num_iterations = 20000 # @param {type:\"integer\"}\n",
    "\n",
    "initial_collect_steps = 100  # @param {type:\"integer\"}\n",
    "collect_steps_per_iteration = 1 # @param {type:\"integer\"}\n",
    "replay_buffer_max_length = 100000  # @param {type:\"integer\"}\n",
    "\n",
    "batch_size = 64  # @param {type:\"integer\"}\n",
    "learning_rate = 1e-3  # @param {type:\"number\"}\n",
    "log_interval = 200  # @param {type:\"integer\"}\n",
    "\n",
    "num_eval_episodes = 10  # @param {type:\"integer\"}\n",
    "eval_interval = 1000  # @param {type:\"integer\"}"
   ]
  },
  {
   "cell_type": "markdown",
   "id": "00283ebb-20e5-4188-b5a7-be553ab22b37",
   "metadata": {},
   "source": [
    "### 2) Convert Gym envs to TFPy envs\n",
    "\n",
    "Two things are happening here:\n",
    "1) We're initializing a separate train and eval env\n",
    "2) We're convering our custom OpenAI Gym env into a TF python env"
   ]
  },
  {
   "cell_type": "code",
   "execution_count": 4,
   "id": "05c8f560-dabc-4017-ac35-c6df5137c4c8",
   "metadata": {},
   "outputs": [],
   "source": [
    "env = WordleEnv(\"config.json\")\n",
    "env = tf_agents.environments.gym_wrapper.GymWrapper(env)\n",
    "\n",
    "gym_train_env = WordleEnv(\"config.json\")\n",
    "gym_eval_env = WordleEnv(\"config.json\")\n",
    "\n",
    "py_train_env = tf_agents.environments.gym_wrapper.GymWrapper(gym_train_env)\n",
    "py_eval_env = tf_agents.environments.gym_wrapper.GymWrapper(gym_eval_env)\n",
    "\n",
    "train_env = tf_py_environment.TFPyEnvironment(py_train_env)\n",
    "eval_env = tf_py_environment.TFPyEnvironment(py_eval_env)"
   ]
  },
  {
   "cell_type": "markdown",
   "id": "87e4c021-ccdb-4df1-b800-51a450c2da66",
   "metadata": {},
   "source": [
    "### 3) Define a TF agent\n",
    "\n",
    "TF-Agents library comes with several different algorithms implemented. Here we'll use a DQN. \n",
    "\n",
    "Instantiating a DQN with TF-Agents involves: \n",
    "1) Defining a Q Network object\n",
    "2) Feeding that Q Network to a DQN agent object\n",
    "\n",
    "The \"Q Network\" is a neural network model that takes env state observations as input and computes Q values as output. Q values here are reward probability estimations for given actions in given env states."
   ]
  },
  {
   "cell_type": "code",
   "execution_count": 5,
   "id": "1917126d-66ec-4822-852c-99b9c67c7e51",
   "metadata": {},
   "outputs": [],
   "source": [
    "fc_layer_params = (100, 50)\n",
    "action_tensor_spec = tensor_spec.from_spec(env.action_spec())\n",
    "num_actions = action_tensor_spec.maximum - action_tensor_spec.minimum + 1\n",
    "\n",
    "# Define a helper function to create Dense layers configured with the right\n",
    "# activation and kernel initializer.\n",
    "def dense_layer(num_units):\n",
    "    return tf.keras.layers.Dense(\n",
    "      num_units,\n",
    "      activation=tf.keras.activations.relu,\n",
    "      kernel_initializer=tf.keras.initializers.VarianceScaling(\n",
    "          scale=2.0, mode='fan_in', distribution='truncated_normal'))\n",
    "\n",
    "# QNetwork consists of a sequence of Dense layers followed by a dense layer\n",
    "# with `num_actions` units to generate one q_value per available action as\n",
    "# its output.\n",
    "dense_layers = [dense_layer(num_units) for num_units in fc_layer_params]\n",
    "q_values_layer = tf.keras.layers.Dense(\n",
    "    num_actions,\n",
    "    activation=None,\n",
    "    kernel_initializer=tf.keras.initializers.RandomUniform(\n",
    "        minval=-0.03, maxval=0.03),\n",
    "    bias_initializer=tf.keras.initializers.Constant(-0.2))\n",
    "q_net = sequential.Sequential(dense_layers + [q_values_layer])"
   ]
  },
  {
   "cell_type": "code",
   "execution_count": 6,
   "id": "e8b2211c-46fd-4929-81e0-79bafc9d2932",
   "metadata": {},
   "outputs": [
    {
     "name": "stderr",
     "output_type": "stream",
     "text": [
      "2022-02-16 19:17:10.403612: W tensorflow/stream_executor/platform/default/dso_loader.cc:64] Could not load dynamic library 'libcuda.so.1'; dlerror: libcuda.so.1: cannot open shared object file: No such file or directory\n",
      "2022-02-16 19:17:10.403679: W tensorflow/stream_executor/cuda/cuda_driver.cc:269] failed call to cuInit: UNKNOWN ERROR (303)\n",
      "2022-02-16 19:17:10.403770: I tensorflow/stream_executor/cuda/cuda_diagnostics.cc:156] kernel driver does not appear to be running on this host (f5bfd35a90d8): /proc/driver/nvidia/version does not exist\n",
      "2022-02-16 19:17:10.404043: I tensorflow/core/platform/cpu_feature_guard.cc:151] This TensorFlow binary is optimized with oneAPI Deep Neural Network Library (oneDNN) to use the following CPU instructions in performance-critical operations:  AVX2 FMA\n",
      "To enable them in other operations, rebuild TensorFlow with the appropriate compiler flags.\n"
     ]
    }
   ],
   "source": [
    "optimizer = tf.keras.optimizers.Adam(learning_rate=learning_rate)\n",
    "\n",
    "train_step_counter = tf.Variable(0)\n",
    "\n",
    "agent = dqn_agent.DqnAgent(\n",
    "    train_env.time_step_spec(),\n",
    "    train_env.action_spec(),\n",
    "    q_network=q_net,\n",
    "    optimizer=optimizer,\n",
    "    td_errors_loss_fn=common.element_wise_squared_loss,\n",
    "    train_step_counter=train_step_counter)\n",
    "\n",
    "agent.initialize()"
   ]
  },
  {
   "cell_type": "code",
   "execution_count": 9,
   "id": "61142671-78f1-4a45-ae49-ffb1e634c244",
   "metadata": {},
   "outputs": [
    {
     "data": {
      "text/plain": [
       "<tf_agents.policies.greedy_policy.GreedyPolicy at 0x7f6a44084370>"
      ]
     },
     "execution_count": 9,
     "metadata": {},
     "output_type": "execute_result"
    }
   ],
   "source": [
    "agent.policy"
   ]
  },
  {
   "cell_type": "code",
   "execution_count": 10,
   "id": "314b8cff-37fd-420f-8cac-8a795615e5b7",
   "metadata": {},
   "outputs": [
    {
     "data": {
      "text/plain": [
       "<tf_agents.policies.epsilon_greedy_policy.EpsilonGreedyPolicy at 0x7f6a44080fd0>"
      ]
     },
     "execution_count": 10,
     "metadata": {},
     "output_type": "execute_result"
    }
   ],
   "source": [
    "agent.collect_policy"
   ]
  },
  {
   "cell_type": "markdown",
   "id": "53541e73-28e8-4165-aca1-cf6bdd62b1a7",
   "metadata": {},
   "source": [
    "### 4) Define a Replay Buffer\n",
    "\n",
    "This is technically optional. The replay buffer will improve data efficiency, that is we will get more information from each game as the replay buffer lets us replay games to see different outcomes from certain states."
   ]
  },
  {
   "cell_type": "code",
   "execution_count": 11,
   "id": "fa2c7f5b-a199-416e-a322-0d3d2049452d",
   "metadata": {},
   "outputs": [
    {
     "data": {
      "text/plain": [
       "Trajectory(\n",
       "{'action': BoundedTensorSpec(shape=(), dtype=tf.int64, name='action', minimum=array(0), maximum=array(10656)),\n",
       " 'discount': BoundedTensorSpec(shape=(), dtype=tf.float32, name='discount', minimum=array(0., dtype=float32), maximum=array(1., dtype=float32)),\n",
       " 'next_step_type': TensorSpec(shape=(), dtype=tf.int32, name='step_type'),\n",
       " 'observation': BoundedTensorSpec(shape=(60,), dtype=tf.uint8, name='observation', minimum=array(0, dtype=uint8), maximum=array(29, dtype=uint8)),\n",
       " 'policy_info': (),\n",
       " 'reward': TensorSpec(shape=(), dtype=tf.float32, name='reward'),\n",
       " 'step_type': TensorSpec(shape=(), dtype=tf.int32, name='step_type')})"
      ]
     },
     "execution_count": 11,
     "metadata": {},
     "output_type": "execute_result"
    }
   ],
   "source": [
    "agent.collect_data_spec"
   ]
  },
  {
   "cell_type": "code",
   "execution_count": 12,
   "id": "3f858751-d7be-4b1c-b79d-a81ae3060764",
   "metadata": {},
   "outputs": [
    {
     "name": "stderr",
     "output_type": "stream",
     "text": [
      "[reverb/cc/platform/tfrecord_checkpointer.cc:150]  Initializing TFRecordCheckpointer in /tmp/tmprlz9zac4.\n",
      "[reverb/cc/platform/tfrecord_checkpointer.cc:386] Loading latest checkpoint from /tmp/tmprlz9zac4\n",
      "[reverb/cc/platform/default/server.cc:71] Started replay server on port 15931\n"
     ]
    }
   ],
   "source": [
    "# table_name = 'uniform_table'\n",
    "# replay_buffer_signature = tensor_spec.from_spec(\n",
    "#       agent.collect_data_spec)\n",
    "# replay_buffer_signature = tensor_spec.add_outer_dim(\n",
    "#     replay_buffer_signature)\n",
    "\n",
    "# table = reverb.Table(\n",
    "#     table_name,\n",
    "#     max_size=replay_buffer_max_length,\n",
    "#     sampler=reverb.selectors.Uniform(),\n",
    "#     remover=reverb.selectors.Fifo(),\n",
    "#     rate_limiter=reverb.rate_limiters.MinSize(1),\n",
    "#     signature=replay_buffer_signature)\n",
    "\n",
    "# reverb_server = reverb.Server([table])\n",
    "\n",
    "# replay_buffer = reverb_replay_buffer.ReverbReplayBuffer(\n",
    "#     agent.collect_data_spec,\n",
    "#     table_name=table_name,\n",
    "#     sequence_length=2,\n",
    "#     local_server=reverb_server)\n",
    "\n",
    "# rb_observer = reverb_utils.ReverbAddTrajectoryObserver(\n",
    "#   replay_buffer.py_client,\n",
    "#   table_name,\n",
    "#   sequence_length=2)"
   ]
  },
  {
   "cell_type": "markdown",
   "id": "3602ccb5-3a70-41f1-b0f0-4400add554e8",
   "metadata": {},
   "source": [
    "### 5) Train our agent"
   ]
  },
  {
   "cell_type": "code",
   "execution_count": 7,
   "id": "c4645968-4c8d-47a1-9feb-29fedaa21645",
   "metadata": {},
   "outputs": [],
   "source": [
    "time_step = env.reset()"
   ]
  },
  {
   "cell_type": "code",
   "execution_count": 8,
   "id": "193081fb-7b19-4d70-9629-0702627807ee",
   "metadata": {},
   "outputs": [],
   "source": [
    "from tf_agents.replay_buffers import tf_uniform_replay_buffer\n",
    "from tf_agents.drivers import dynamic_step_driver"
   ]
  },
  {
   "cell_type": "code",
   "execution_count": 9,
   "id": "a442e937-be3c-4cae-bab0-23c4ece8b81a",
   "metadata": {},
   "outputs": [],
   "source": [
    "replay_buffer_capacity = 1000\n",
    "\n",
    "replay_buffer = tf_uniform_replay_buffer.TFUniformReplayBuffer(\n",
    "    agent.collect_data_spec,\n",
    "    batch_size=train_env.batch_size,\n",
    "    max_length=replay_buffer_capacity)"
   ]
  },
  {
   "cell_type": "code",
   "execution_count": 10,
   "id": "89d4f4d8-8092-4ea1-9503-52affa206089",
   "metadata": {},
   "outputs": [],
   "source": [
    "replay_observer = [replay_buffer.add_batch]\n",
    "\n",
    "collect_steps_per_iteration = 10\n",
    "collect_op = dynamic_step_driver.DynamicStepDriver(\n",
    "  train_env,\n",
    "  agent.collect_policy,\n",
    "  observers=replay_observer,\n",
    "  num_steps=collect_steps_per_iteration).run()"
   ]
  },
  {
   "cell_type": "code",
   "execution_count": 11,
   "id": "bfbd0533-505d-463e-a598-4441f5ff1b44",
   "metadata": {},
   "outputs": [],
   "source": [
    "def compute_avg_return(environment, policy, num_episodes=10):\n",
    "\n",
    "    total_return = 0.0\n",
    "    for _ in range(num_episodes):\n",
    "\n",
    "        time_step = environment.reset()\n",
    "        episode_return = 0.0\n",
    "\n",
    "        while not time_step.is_last():\n",
    "            action_step = policy.action(time_step)\n",
    "            time_step = environment.step(action_step.action)\n",
    "            episode_return += time_step.reward\n",
    "        total_return += episode_return\n",
    "\n",
    "    avg_return = total_return / num_episodes\n",
    "    return avg_return.numpy()[0]"
   ]
  },
  {
   "cell_type": "code",
   "execution_count": 12,
   "id": "8e4a495c-9a44-4cf2-b796-ec224ccf34e5",
   "metadata": {},
   "outputs": [],
   "source": [
    "# (Optional) Optimize by wrapping some of the code in a graph using TF function.\n",
    "agent.train = common.function(agent.train)"
   ]
  },
  {
   "cell_type": "code",
   "execution_count": 24,
   "id": "5501a040-a160-4d54-846f-9305061f41eb",
   "metadata": {},
   "outputs": [
    {
     "data": {
      "text/plain": [
       "<tf.Variable 'Variable:0' shape=() dtype=int32, numpy=10000>"
      ]
     },
     "execution_count": 24,
     "metadata": {},
     "output_type": "execute_result"
    }
   ],
   "source": [
    "agent.train_step_counter"
   ]
  },
  {
   "cell_type": "code",
   "execution_count": 13,
   "id": "b6b58b96-c9d0-4406-a034-d35afd386dc7",
   "metadata": {
    "tags": []
   },
   "outputs": [
    {
     "name": "stdout",
     "output_type": "stream",
     "text": [
      "WARNING:tensorflow:From /usr/local/lib/python3.8/site-packages/tensorflow/python/autograph/impl/api.py:383: ReplayBuffer.get_next (from tf_agents.replay_buffers.replay_buffer) is deprecated and will be removed in a future version.\n",
      "Instructions for updating:\n",
      "Use `as_dataset(..., single_deterministic_pass=False) instead.\n"
     ]
    },
    {
     "name": "stderr",
     "output_type": "stream",
     "text": [
      "WARNING - From /usr/local/lib/python3.8/site-packages/tensorflow/python/autograph/impl/api.py:383: ReplayBuffer.get_next (from tf_agents.replay_buffers.replay_buffer) is deprecated and will be removed in a future version.\n",
      "Instructions for updating:\n",
      "Use `as_dataset(..., single_deterministic_pass=False) instead.\n",
      "  0%|          | 0/10000 [00:00<?, ?it/s]"
     ]
    },
    {
     "name": "stdout",
     "output_type": "stream",
     "text": [
      "WARNING:tensorflow:From /usr/local/lib/python3.8/site-packages/tensorflow/python/util/dispatch.py:1096: calling foldr_v2 (from tensorflow.python.ops.functional_ops) with back_prop=False is deprecated and will be removed in a future version.\n",
      "Instructions for updating:\n",
      "back_prop=False is deprecated. Consider using tf.stop_gradient instead.\n",
      "Instead of:\n",
      "results = tf.foldr(fn, elems, back_prop=False)\n",
      "Use:\n",
      "results = tf.nest.map_structure(tf.stop_gradient, tf.foldr(fn, elems))\n"
     ]
    },
    {
     "name": "stderr",
     "output_type": "stream",
     "text": [
      "WARNING - From /usr/local/lib/python3.8/site-packages/tensorflow/python/util/dispatch.py:1096: calling foldr_v2 (from tensorflow.python.ops.functional_ops) with back_prop=False is deprecated and will be removed in a future version.\n",
      "Instructions for updating:\n",
      "back_prop=False is deprecated. Consider using tf.stop_gradient instead.\n",
      "Instead of:\n",
      "results = tf.foldr(fn, elems, back_prop=False)\n",
      "Use:\n",
      "results = tf.nest.map_structure(tf.stop_gradient, tf.foldr(fn, elems))\n",
      "100%|██████████| 10000/10000 [19:51<00:00,  8.39it/s]"
     ]
    },
    {
     "name": "stdout",
     "output_type": "stream",
     "text": [
      "CPU times: user 21min 12s, sys: 36.8 s, total: 21min 48s\n",
      "Wall time: 19min 53s\n"
     ]
    },
    {
     "name": "stderr",
     "output_type": "stream",
     "text": [
      "\n"
     ]
    }
   ],
   "source": [
    "%%time\n",
    "\n",
    "num_iterations = 10000 # @param {type:\"integer\"}\n",
    "\n",
    "initial_collect_steps = 100  # @param {type:\"integer\"}\n",
    "collect_steps_per_iteration = 1 # @param {type:\"integer\"}\n",
    "replay_buffer_max_length = 10000  # @param {type:\"integer\"}\n",
    "\n",
    "batch_size = 64  # @param {type:\"integer\"}\n",
    "learning_rate = 1e-3  # @param {type:\"number\"}\n",
    "log_interval = 4000  # @param {type:\"integer\"}\n",
    "\n",
    "num_eval_episodes = 10  # @param {type:\"integer\"}\n",
    "eval_interval = 1000  # @param {type:\"integer\"}\n",
    "\n",
    "\n",
    "# Reset the train step.\n",
    "agent.train_step_counter.assign(0)\n",
    "\n",
    "# Evaluate the agent's policy once before training.\n",
    "avg_return = compute_avg_return(eval_env, agent.policy, num_eval_episodes)\n",
    "returns = [avg_return]\n",
    "\n",
    "# Reset the environment.\n",
    "time_step = train_env.reset()\n",
    "\n",
    "# Create a driver to collect experience.\n",
    "collect_steps_per_iteration = 10\n",
    "collect_op = dynamic_step_driver.DynamicStepDriver(\n",
    "  train_env,\n",
    "  agent.collect_policy,\n",
    "  observers=replay_observer,\n",
    "  num_steps=collect_steps_per_iteration)\n",
    "\n",
    "dataset = replay_buffer.as_dataset(\n",
    "    num_parallel_calls=3,\n",
    "    sample_batch_size=batch_size,\n",
    "    num_steps=2)\n",
    "\n",
    "iterator = iter(dataset)\n",
    "\n",
    "for _ in tqdm(range(num_iterations)):\n",
    "\n",
    "    # Collect a few steps and save to the replay buffer.\n",
    "    time_step, _ = collect_op.run(time_step)\n",
    "\n",
    "    # Sample a batch of data from the buffer and update the agent's network.\n",
    "    # print(time_step)\n",
    "    experience, unused_info = next(iterator)\n",
    "    # print(experience)\n",
    "    train_loss = agent.train(experience).loss\n",
    "    # print(train_loss)\n",
    "    step = agent.train_step_counter.numpy()\n",
    "    # print(step)\n",
    "    # if step % log_interval == 0:\n",
    "    #     print('step = {0}: loss = {1}'.format(step, train_loss))\n",
    "\n",
    "    if step % eval_interval == 0:\n",
    "        avg_return = compute_avg_return(eval_env, agent.policy, num_eval_episodes)\n",
    "        # print('step = {0}: Average Return = {1}'.format(step, avg_return))\n",
    "        returns.append(avg_return)"
   ]
  },
  {
   "cell_type": "markdown",
   "id": "65270696-356d-4030-820b-becb8e4de0b6",
   "metadata": {},
   "source": [
    "### 6) Evaluate our agent\n",
    "\n",
    "We need a way to see how good our policy is performing on our environment"
   ]
  },
  {
   "cell_type": "code",
   "execution_count": 14,
   "id": "81252ce2-e026-45f9-beb3-ec39be014287",
   "metadata": {},
   "outputs": [],
   "source": [
    "import matplotlib.pyplot as plt"
   ]
  },
  {
   "cell_type": "code",
   "execution_count": 15,
   "id": "8de255a7-ee0d-4b41-8444-bfc3ff381284",
   "metadata": {},
   "outputs": [
    {
     "data": {
      "text/plain": [
       "[-9936.6,\n",
       " -19942.8,\n",
       " -14898.4,\n",
       " -9846.2,\n",
       " -9907.0,\n",
       " -4881.5,\n",
       " -4921.5,\n",
       " -4894.3,\n",
       " -4807.0,\n",
       " 154.7,\n",
       " 163.9]"
      ]
     },
     "execution_count": 15,
     "metadata": {},
     "output_type": "execute_result"
    }
   ],
   "source": [
    "returns"
   ]
  },
  {
   "cell_type": "code",
   "execution_count": 16,
   "id": "fb8f7e19-7d9d-4094-978d-df08f525c691",
   "metadata": {},
   "outputs": [
    {
     "data": {
      "text/plain": [
       "Text(0.5, 0, 'Iterations')"
      ]
     },
     "execution_count": 16,
     "metadata": {},
     "output_type": "execute_result"
    },
    {
     "data": {
      "image/png": "[encoded data removed]",
      "text/plain": [
       "<Figure size 432x288 with 1 Axes>"
      ]
     },
     "metadata": {
      "needs_background": "light"
     },
     "output_type": "display_data"
    }
   ],
   "source": [
    "iterations = range(0, num_iterations + 1, eval_interval)\n",
    "plt.plot(iterations, returns)\n",
    "plt.ylabel('Average Return')\n",
    "plt.xlabel('Iterations')\n",
    "# plt.ylim(top=250)"
   ]
  },
  {
   "cell_type": "code",
   "execution_count": 17,
   "id": "86ccfadd-b403-46ee-9684-f99ef8eb9724",
   "metadata": {},
   "outputs": [],
   "source": [
    "import utils"
   ]
  },
  {
   "cell_type": "code",
   "execution_count": 36,
   "id": "b08e9ab5-91a7-4ab7-8ed7-4943d4641312",
   "metadata": {},
   "outputs": [
    {
     "name": "stdout",
     "output_type": "stream",
     "text": [
      "This game's correct word is: 'hoods'\n",
      "\n",
      "RL Agent's guesses:\n",
      "p a t e d      Reward = 1\n",
      "- - - - - \n",
      "c u f f o      Reward = 1\n",
      "- - - - - \n",
      "h e r m s      Reward = 100\n",
      "- - - - - \n",
      "p o t t y      Reward = 50\n",
      "- - - - - \n",
      "c a w e d      Reward = 1\n",
      "- - - - - \n",
      "s u i t s      Reward = 51\n",
      "- - - - - \n",
      "\n",
      "Final Result:\n",
      "[[[16  1 20  5  4]\n",
      "  [ 3 21  6  6 15]\n",
      "  [ 8  5 18 13 19]\n",
      "  [16 15 20 20 25]\n",
      "  [ 3  1 23  5  4]\n",
      "  [19 21  9 20 19]]\n",
      "\n",
      " [[27 27 27 27 28]\n",
      "  [27 27 27 27 28]\n",
      "  [29 27 27 27 29]\n",
      "  [27 29 27 27 27]\n",
      "  [27 27 27 27 28]\n",
      "  [28 27 27 27 29]]]\n",
      "<tf_agents.environments.tf_py_environment.TFPyEnvironment object at 0x7f07aad2cf40>\n"
     ]
    }
   ],
   "source": [
    "utils.play_a_tfagents_game(eval_env,agent)"
   ]
  },
  {
   "cell_type": "code",
   "execution_count": null,
   "id": "ce12289a-ff5f-461b-b121-d06a34955ecc",
   "metadata": {},
   "outputs": [],
   "source": []
  }
 ],
 "metadata": {
  "kernelspec": {
   "display_name": "Python 3 (ipykernel)",
   "language": "python",
   "name": "python3"
  },
  "language_info": {
   "codemirror_mode": {
    "name": "ipython",
    "version": 3
   },
   "file_extension": ".py",
   "mimetype": "text/x-python",
   "name": "python",
   "nbconvert_exporter": "python",
   "pygments_lexer": "ipython3",
   "version": "3.8.12"
  }
 },
 "nbformat": 4,
 "nbformat_minor": 5
}
