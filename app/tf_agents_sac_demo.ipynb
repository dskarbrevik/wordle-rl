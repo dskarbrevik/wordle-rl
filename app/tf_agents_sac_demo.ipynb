{
 "cells": [
  {
   "cell_type": "markdown",
   "id": "113b576c-ebd1-456a-a2c1-d7bf535d7ec3",
   "metadata": {},
   "source": [
    "# Testing tf-agents library"
   ]
  },
  {
   "cell_type": "markdown",
   "id": "2ab22ce9-f8ed-4b3f-a3d2-fa2e8efffb88",
   "metadata": {},
   "source": [
    "A lot of this code was pulling from TF-Agents DQN tutorial as well as other TF-Agents tutorial pages:\n",
    "https://www.tensorflow.org/agents/tutorials/1_dqn_tutorial\n",
    "\n",
    "At a high level we will do the following:\n",
    "\n",
    "1) Get an environment\n",
    "2) Get an agent\n",
    "3) Get a policy\n",
    "4) "
   ]
  },
  {
   "cell_type": "code",
   "execution_count": 1,
   "id": "09e60219-2911-452f-ab16-d3b4d88bb595",
   "metadata": {},
   "outputs": [
    {
     "name": "stderr",
     "output_type": "stream",
     "text": [
      "2022-02-15 23:37:05.133314: W tensorflow/stream_executor/platform/default/dso_loader.cc:64] Could not load dynamic library 'libcudart.so.11.0'; dlerror: libcudart.so.11.0: cannot open shared object file: No such file or directory\n",
      "2022-02-15 23:37:05.133360: I tensorflow/stream_executor/cuda/cudart_stub.cc:29] Ignore above cudart dlerror if you do not have a GPU set up on your machine.\n"
     ]
    }
   ],
   "source": [
    "from tqdm import tqdm\n",
    "from wordle_rl import WordleEnv\n",
    "\n",
    "# import gym\n",
    "\n",
    "import tensorflow as tf\n",
    "import numpy as np\n",
    "\n",
    "import tf_agents\n",
    "import reverb\n",
    "\n",
    "from tf_agents.agents.dqn import dqn_agent\n",
    "from tf_agents.drivers import py_driver\n",
    "from tf_agents.drivers import dynamic_episode_driver\n",
    "\n",
    "from tf_agents.environments import suite_gym\n",
    "from tf_agents.environments import tf_py_environment\n",
    "from tf_agents.eval import metric_utils\n",
    "from tf_agents.metrics import tf_metrics\n",
    "from tf_agents.networks import sequential\n",
    "from tf_agents.policies import py_tf_eager_policy\n",
    "from tf_agents.policies import random_tf_policy\n",
    "from tf_agents.replay_buffers import reverb_replay_buffer\n",
    "from tf_agents.replay_buffers import reverb_utils\n",
    "from tf_agents.trajectories import trajectory\n",
    "from tf_agents.specs import tensor_spec\n",
    "from tf_agents.utils import common\n",
    "\n",
    "\n",
    "from tf_agents.environments import py_environment\n",
    "from tf_agents.environments import tf_environment\n",
    "from tf_agents.environments import tf_py_environment\n",
    "from tf_agents.environments import utils\n",
    "from tf_agents.specs import array_spec\n",
    "from tf_agents.environments import wrappers\n",
    "from tf_agents.environments import suite_gym\n",
    "from tf_agents.trajectories import time_step as ts\n",
    "\n",
    "from tf_agents.agents.ddpg import critic_network\n",
    "from tf_agents.agents.sac import sac_agent\n",
    "from tf_agents.agents.sac import tanh_normal_projection_network\n",
    "from tf_agents.metrics import py_metrics\n",
    "from tf_agents.networks import actor_distribution_network\n",
    "from tf_agents.policies import greedy_policy\n",
    "from tf_agents.policies import random_py_policy\n",
    "from tf_agents.train import actor\n",
    "from tf_agents.train import learner\n",
    "from tf_agents.train import triggers\n",
    "from tf_agents.train.utils import spec_utils\n",
    "from tf_agents.train.utils import strategy_utils\n",
    "from tf_agents.train.utils import train_utils"
   ]
  },
  {
   "cell_type": "code",
   "execution_count": 2,
   "id": "4af75efd-1790-4cbd-9666-bb1d6eb973a3",
   "metadata": {},
   "outputs": [],
   "source": [
    "import warnings\n",
    "warnings.filterwarnings(\"ignore\")"
   ]
  },
  {
   "cell_type": "markdown",
   "id": "d0305e9d-b9e8-4775-ad98-72592a20ab54",
   "metadata": {},
   "source": [
    "### 1) Hyperparameters of this demo"
   ]
  },
  {
   "cell_type": "code",
   "execution_count": 3,
   "id": "a22cc740-e5d6-421b-a840-8dec54a7ec26",
   "metadata": {},
   "outputs": [],
   "source": [
    "env_name = \"wordle\" # @param {type:\"string\"}\n",
    "\n",
    "# Use \"num_iterations = 1e6\" for better results (2 hrs)\n",
    "# 1e5 is just so this doesn't take too long (1 hr)\n",
    "num_iterations = 100000 # @param {type:\"integer\"}\n",
    "\n",
    "initial_collect_steps = 10000 # @param {type:\"integer\"}\n",
    "collect_steps_per_iteration = 1 # @param {type:\"integer\"}\n",
    "replay_buffer_capacity = 10000 # @param {type:\"integer\"}\n",
    "\n",
    "batch_size = 256 # @param {type:\"integer\"}\n",
    "\n",
    "critic_learning_rate = 3e-4 # @param {type:\"number\"}\n",
    "actor_learning_rate = 3e-4 # @param {type:\"number\"}\n",
    "alpha_learning_rate = 3e-4 # @param {type:\"number\"}\n",
    "target_update_tau = 0.005 # @param {type:\"number\"}\n",
    "target_update_period = 1 # @param {type:\"number\"}\n",
    "gamma = 0.99 # @param {type:\"number\"}\n",
    "reward_scale_factor = 1.0 # @param {type:\"number\"}\n",
    "\n",
    "actor_fc_layer_params = (256, 256)\n",
    "critic_joint_fc_layer_params = (256, 256)\n",
    "\n",
    "log_interval = 5000 # @param {type:\"integer\"}\n",
    "\n",
    "num_eval_episodes = 20 # @param {type:\"integer\"}\n",
    "eval_interval = 10000 # @param {type:\"integer\"}\n",
    "\n",
    "policy_save_interval = 5000 # @param {type:\"integer\"}"
   ]
  },
  {
   "cell_type": "markdown",
   "id": "00283ebb-20e5-4188-b5a7-be553ab22b37",
   "metadata": {},
   "source": [
    "### 2) Convert Gym envs to TFPy envs\n",
    "\n",
    "Two things are happening here:\n",
    "1) We're initializing a separate train and eval env\n",
    "2) We're convering our custom OpenAI Gym env into a TF python env"
   ]
  },
  {
   "cell_type": "code",
   "execution_count": 4,
   "id": "05c8f560-dabc-4017-ac35-c6df5137c4c8",
   "metadata": {},
   "outputs": [],
   "source": [
    "env = WordleEnv(\"config.json\")\n",
    "env = tf_agents.environments.gym_wrapper.GymWrapper(env)\n",
    "\n",
    "gym_train_env = WordleEnv(\"config.json\")\n",
    "gym_eval_env = WordleEnv(\"config.json\")\n",
    "\n",
    "collect_env = tf_agents.environments.gym_wrapper.GymWrapper(gym_train_env)\n",
    "eval_env = tf_agents.environments.gym_wrapper.GymWrapper(gym_eval_env)\n",
    "\n",
    "# collect_env = tf_py_environment.TFPyEnvironment(py_train_env)\n",
    "# eval_env = tf_py_environment.TFPyEnvironment(py_eval_env)"
   ]
  },
  {
   "cell_type": "code",
   "execution_count": 5,
   "id": "6c34cf10-74e2-4371-8f90-3385def8a6b7",
   "metadata": {},
   "outputs": [],
   "source": [
    "use_gpu = False\n",
    "\n",
    "strategy = strategy_utils.get_strategy(tpu=False, use_gpu=use_gpu)"
   ]
  },
  {
   "cell_type": "code",
   "execution_count": 6,
   "id": "5e61265d-ef9c-4a32-b3d6-8f6ec431eb68",
   "metadata": {},
   "outputs": [],
   "source": [
    "# tf_env = tf_py_environment.TFPyEnvironment(env)\n",
    "# # reset() creates the initial time_step after resetting the environment.\n",
    "# time_step = tf_env.reset()\n",
    "# num_steps = 3\n",
    "# transitions = []\n",
    "# reward = 0\n",
    "# for i in range(num_steps):\n",
    "#     action = tf.constant([i % 2])\n",
    "#     # applies the action and returns the new TimeStep.\n",
    "#     next_time_step = tf_env.step(action)\n",
    "#     transitions.append([time_step, action, next_time_step])\n",
    "#     reward += next_time_step.reward\n",
    "#     time_step = next_time_step\n",
    "\n",
    "# np_transitions = tf.nest.map_structure(lambda x: x.numpy(), transitions)\n",
    "# print('\\n'.join(map(str, np_transitions)))\n",
    "# print('Total reward:', reward.numpy())"
   ]
  },
  {
   "cell_type": "markdown",
   "id": "87e4c021-ccdb-4df1-b800-51a450c2da66",
   "metadata": {},
   "source": [
    "### 3) Define a TF agent\n",
    "\n",
    "This time we'll use the soft actor-critic model (SAC). "
   ]
  },
  {
   "cell_type": "code",
   "execution_count": 6,
   "id": "ce2930d6-defa-42ea-9785-19a7fbc50e48",
   "metadata": {},
   "outputs": [],
   "source": [
    "observation_spec, action_spec, time_step_spec = (\n",
    "      spec_utils.get_tensor_specs(collect_env))"
   ]
  },
  {
   "cell_type": "code",
   "execution_count": 7,
   "id": "60d986f0-2b40-4af2-8f55-5eeac68e3043",
   "metadata": {},
   "outputs": [],
   "source": [
    "with strategy.scope():\n",
    "    critic_net = critic_network.CriticNetwork(\n",
    "        (observation_spec, action_spec),\n",
    "        observation_fc_layer_params=None,\n",
    "        action_fc_layer_params=None,\n",
    "        joint_fc_layer_params=critic_joint_fc_layer_params,\n",
    "        kernel_initializer='glorot_uniform',\n",
    "        last_kernel_initializer='glorot_uniform')"
   ]
  },
  {
   "cell_type": "code",
   "execution_count": 8,
   "id": "116a28b8-ce3b-45e7-9a5d-504764cedd89",
   "metadata": {},
   "outputs": [],
   "source": [
    "with strategy.scope():\n",
    "    actor_net = actor_distribution_network.ActorDistributionNetwork(\n",
    "      observation_spec,\n",
    "      action_spec,\n",
    "      fc_layer_params=actor_fc_layer_params,\n",
    "      continuous_projection_net=(\n",
    "          tanh_normal_projection_network.TanhNormalProjectionNetwork))"
   ]
  },
  {
   "cell_type": "code",
   "execution_count": 9,
   "id": "21c0cb68-b4b4-4d4d-b9f2-76542acfaf52",
   "metadata": {},
   "outputs": [
    {
     "name": "stderr",
     "output_type": "stream",
     "text": [
      "2022-02-15 23:37:19.813802: W tensorflow/stream_executor/platform/default/dso_loader.cc:64] Could not load dynamic library 'libcuda.so.1'; dlerror: libcuda.so.1: cannot open shared object file: No such file or directory\n",
      "2022-02-15 23:37:19.813865: W tensorflow/stream_executor/cuda/cuda_driver.cc:269] failed call to cuInit: UNKNOWN ERROR (303)\n",
      "2022-02-15 23:37:19.813894: I tensorflow/stream_executor/cuda/cuda_diagnostics.cc:156] kernel driver does not appear to be running on this host (f5bfd35a90d8): /proc/driver/nvidia/version does not exist\n",
      "2022-02-15 23:37:19.814203: I tensorflow/core/platform/cpu_feature_guard.cc:151] This TensorFlow binary is optimized with oneAPI Deep Neural Network Library (oneDNN) to use the following CPU instructions in performance-critical operations:  AVX2 FMA\n",
      "To enable them in other operations, rebuild TensorFlow with the appropriate compiler flags.\n"
     ]
    },
    {
     "ename": "NotImplementedError",
     "evalue": "SacAgent does not currently support discrete actions. Action spec: BoundedTensorSpec(shape=(), dtype=tf.int64, name='action', minimum=array(0), maximum=array(10656))\n  In call to configurable 'SacAgent' (<class 'tf_agents.agents.sac.sac_agent.SacAgent'>)",
     "output_type": "error",
     "traceback": [
      "\u001b[0;31m---------------------------------------------------------------------------\u001b[0m",
      "\u001b[0;31mNotImplementedError\u001b[0m                       Traceback (most recent call last)",
      "Input \u001b[0;32mIn [9]\u001b[0m, in \u001b[0;36m<module>\u001b[0;34m\u001b[0m\n\u001b[1;32m      1\u001b[0m \u001b[38;5;28;01mwith\u001b[39;00m strategy\u001b[38;5;241m.\u001b[39mscope():\n\u001b[1;32m      2\u001b[0m     train_step \u001b[38;5;241m=\u001b[39m train_utils\u001b[38;5;241m.\u001b[39mcreate_train_step()\n\u001b[0;32m----> 4\u001b[0m     tf_agent \u001b[38;5;241m=\u001b[39m \u001b[43msac_agent\u001b[49m\u001b[38;5;241;43m.\u001b[39;49m\u001b[43mSacAgent\u001b[49m\u001b[43m(\u001b[49m\n\u001b[1;32m      5\u001b[0m \u001b[43m        \u001b[49m\u001b[43mtime_step_spec\u001b[49m\u001b[43m,\u001b[49m\n\u001b[1;32m      6\u001b[0m \u001b[43m        \u001b[49m\u001b[43maction_spec\u001b[49m\u001b[43m,\u001b[49m\n\u001b[1;32m      7\u001b[0m \u001b[43m        \u001b[49m\u001b[43mactor_network\u001b[49m\u001b[38;5;241;43m=\u001b[39;49m\u001b[43mactor_net\u001b[49m\u001b[43m,\u001b[49m\n\u001b[1;32m      8\u001b[0m \u001b[43m        \u001b[49m\u001b[43mcritic_network\u001b[49m\u001b[38;5;241;43m=\u001b[39;49m\u001b[43mcritic_net\u001b[49m\u001b[43m,\u001b[49m\n\u001b[1;32m      9\u001b[0m \u001b[43m        \u001b[49m\u001b[43mactor_optimizer\u001b[49m\u001b[38;5;241;43m=\u001b[39;49m\u001b[43mtf\u001b[49m\u001b[38;5;241;43m.\u001b[39;49m\u001b[43mkeras\u001b[49m\u001b[38;5;241;43m.\u001b[39;49m\u001b[43moptimizers\u001b[49m\u001b[38;5;241;43m.\u001b[39;49m\u001b[43mAdam\u001b[49m\u001b[43m(\u001b[49m\n\u001b[1;32m     10\u001b[0m \u001b[43m            \u001b[49m\u001b[43mlearning_rate\u001b[49m\u001b[38;5;241;43m=\u001b[39;49m\u001b[43mactor_learning_rate\u001b[49m\u001b[43m)\u001b[49m\u001b[43m,\u001b[49m\n\u001b[1;32m     11\u001b[0m \u001b[43m        \u001b[49m\u001b[43mcritic_optimizer\u001b[49m\u001b[38;5;241;43m=\u001b[39;49m\u001b[43mtf\u001b[49m\u001b[38;5;241;43m.\u001b[39;49m\u001b[43mkeras\u001b[49m\u001b[38;5;241;43m.\u001b[39;49m\u001b[43moptimizers\u001b[49m\u001b[38;5;241;43m.\u001b[39;49m\u001b[43mAdam\u001b[49m\u001b[43m(\u001b[49m\n\u001b[1;32m     12\u001b[0m \u001b[43m            \u001b[49m\u001b[43mlearning_rate\u001b[49m\u001b[38;5;241;43m=\u001b[39;49m\u001b[43mcritic_learning_rate\u001b[49m\u001b[43m)\u001b[49m\u001b[43m,\u001b[49m\n\u001b[1;32m     13\u001b[0m \u001b[43m        \u001b[49m\u001b[43malpha_optimizer\u001b[49m\u001b[38;5;241;43m=\u001b[39;49m\u001b[43mtf\u001b[49m\u001b[38;5;241;43m.\u001b[39;49m\u001b[43mkeras\u001b[49m\u001b[38;5;241;43m.\u001b[39;49m\u001b[43moptimizers\u001b[49m\u001b[38;5;241;43m.\u001b[39;49m\u001b[43mAdam\u001b[49m\u001b[43m(\u001b[49m\n\u001b[1;32m     14\u001b[0m \u001b[43m            \u001b[49m\u001b[43mlearning_rate\u001b[49m\u001b[38;5;241;43m=\u001b[39;49m\u001b[43malpha_learning_rate\u001b[49m\u001b[43m)\u001b[49m\u001b[43m,\u001b[49m\n\u001b[1;32m     15\u001b[0m \u001b[43m        \u001b[49m\u001b[43mtarget_update_tau\u001b[49m\u001b[38;5;241;43m=\u001b[39;49m\u001b[43mtarget_update_tau\u001b[49m\u001b[43m,\u001b[49m\n\u001b[1;32m     16\u001b[0m \u001b[43m        \u001b[49m\u001b[43mtarget_update_period\u001b[49m\u001b[38;5;241;43m=\u001b[39;49m\u001b[43mtarget_update_period\u001b[49m\u001b[43m,\u001b[49m\n\u001b[1;32m     17\u001b[0m \u001b[43m        \u001b[49m\u001b[43mtd_errors_loss_fn\u001b[49m\u001b[38;5;241;43m=\u001b[39;49m\u001b[43mtf\u001b[49m\u001b[38;5;241;43m.\u001b[39;49m\u001b[43mmath\u001b[49m\u001b[38;5;241;43m.\u001b[39;49m\u001b[43msquared_difference\u001b[49m\u001b[43m,\u001b[49m\n\u001b[1;32m     18\u001b[0m \u001b[43m        \u001b[49m\u001b[43mgamma\u001b[49m\u001b[38;5;241;43m=\u001b[39;49m\u001b[43mgamma\u001b[49m\u001b[43m,\u001b[49m\n\u001b[1;32m     19\u001b[0m \u001b[43m        \u001b[49m\u001b[43mreward_scale_factor\u001b[49m\u001b[38;5;241;43m=\u001b[39;49m\u001b[43mreward_scale_factor\u001b[49m\u001b[43m,\u001b[49m\n\u001b[1;32m     20\u001b[0m \u001b[43m        \u001b[49m\u001b[43mtrain_step_counter\u001b[49m\u001b[38;5;241;43m=\u001b[39;49m\u001b[43mtrain_step\u001b[49m\u001b[43m)\u001b[49m\n\u001b[1;32m     22\u001b[0m     tf_agent\u001b[38;5;241m.\u001b[39minitialize()\n",
      "File \u001b[0;32m/usr/local/lib/python3.8/site-packages/gin/config.py:1605\u001b[0m, in \u001b[0;36m_make_gin_wrapper.<locals>.gin_wrapper\u001b[0;34m(*args, **kwargs)\u001b[0m\n\u001b[1;32m   1603\u001b[0m scope_info \u001b[38;5;241m=\u001b[39m \u001b[38;5;124m\"\u001b[39m\u001b[38;5;124m in scope \u001b[39m\u001b[38;5;124m'\u001b[39m\u001b[38;5;132;01m{}\u001b[39;00m\u001b[38;5;124m'\u001b[39m\u001b[38;5;124m\"\u001b[39m\u001b[38;5;241m.\u001b[39mformat(scope_str) \u001b[38;5;28;01mif\u001b[39;00m scope_str \u001b[38;5;28;01melse\u001b[39;00m \u001b[38;5;124m'\u001b[39m\u001b[38;5;124m'\u001b[39m\n\u001b[1;32m   1604\u001b[0m err_str \u001b[38;5;241m=\u001b[39m err_str\u001b[38;5;241m.\u001b[39mformat(name, fn_or_cls, scope_info)\n\u001b[0;32m-> 1605\u001b[0m \u001b[43mutils\u001b[49m\u001b[38;5;241;43m.\u001b[39;49m\u001b[43maugment_exception_message_and_reraise\u001b[49m\u001b[43m(\u001b[49m\u001b[43me\u001b[49m\u001b[43m,\u001b[49m\u001b[43m \u001b[49m\u001b[43merr_str\u001b[49m\u001b[43m)\u001b[49m\n",
      "File \u001b[0;32m/usr/local/lib/python3.8/site-packages/gin/utils.py:41\u001b[0m, in \u001b[0;36maugment_exception_message_and_reraise\u001b[0;34m(exception, message)\u001b[0m\n\u001b[1;32m     39\u001b[0m proxy \u001b[38;5;241m=\u001b[39m ExceptionProxy()\n\u001b[1;32m     40\u001b[0m ExceptionProxy\u001b[38;5;241m.\u001b[39m\u001b[38;5;18m__qualname__\u001b[39m \u001b[38;5;241m=\u001b[39m \u001b[38;5;28mtype\u001b[39m(exception)\u001b[38;5;241m.\u001b[39m\u001b[38;5;18m__qualname__\u001b[39m\n\u001b[0;32m---> 41\u001b[0m \u001b[38;5;28;01mraise\u001b[39;00m proxy\u001b[38;5;241m.\u001b[39mwith_traceback(exception\u001b[38;5;241m.\u001b[39m__traceback__) \u001b[38;5;28;01mfrom\u001b[39;00m \u001b[38;5;28mNone\u001b[39m\n",
      "File \u001b[0;32m/usr/local/lib/python3.8/site-packages/gin/config.py:1582\u001b[0m, in \u001b[0;36m_make_gin_wrapper.<locals>.gin_wrapper\u001b[0;34m(*args, **kwargs)\u001b[0m\n\u001b[1;32m   1579\u001b[0m new_kwargs\u001b[38;5;241m.\u001b[39mupdate(kwargs)\n\u001b[1;32m   1581\u001b[0m \u001b[38;5;28;01mtry\u001b[39;00m:\n\u001b[0;32m-> 1582\u001b[0m   \u001b[38;5;28;01mreturn\u001b[39;00m \u001b[43mfn\u001b[49m\u001b[43m(\u001b[49m\u001b[38;5;241;43m*\u001b[39;49m\u001b[43mnew_args\u001b[49m\u001b[43m,\u001b[49m\u001b[43m \u001b[49m\u001b[38;5;241;43m*\u001b[39;49m\u001b[38;5;241;43m*\u001b[39;49m\u001b[43mnew_kwargs\u001b[49m\u001b[43m)\u001b[49m\n\u001b[1;32m   1583\u001b[0m \u001b[38;5;28;01mexcept\u001b[39;00m \u001b[38;5;167;01mException\u001b[39;00m \u001b[38;5;28;01mas\u001b[39;00m e:  \u001b[38;5;66;03m# pylint: disable=broad-except\u001b[39;00m\n\u001b[1;32m   1584\u001b[0m   err_str \u001b[38;5;241m=\u001b[39m \u001b[38;5;124m'\u001b[39m\u001b[38;5;124m'\u001b[39m\n",
      "File \u001b[0;32m/usr/local/lib/python3.8/site-packages/tf_agents/agents/sac/sac_agent.py:154\u001b[0m, in \u001b[0;36mSacAgent.__init__\u001b[0;34m(self, time_step_spec, action_spec, critic_network, actor_network, actor_optimizer, critic_optimizer, alpha_optimizer, actor_loss_weight, critic_loss_weight, alpha_loss_weight, actor_policy_ctor, critic_network_2, target_critic_network, target_critic_network_2, target_update_tau, target_update_period, td_errors_loss_fn, gamma, reward_scale_factor, initial_log_alpha, use_log_alpha_in_alpha_loss, target_entropy, gradient_clipping, debug_summaries, summarize_grads_and_vars, train_step_counter, name)\u001b[0m\n\u001b[1;32m     94\u001b[0m \u001b[38;5;124;03m\"\"\"Creates a SAC Agent.\u001b[39;00m\n\u001b[1;32m     95\u001b[0m \n\u001b[1;32m     96\u001b[0m \u001b[38;5;124;03mArgs:\u001b[39;00m\n\u001b[0;32m   (...)\u001b[0m\n\u001b[1;32m    150\u001b[0m \u001b[38;5;124;03m    that name. Defaults to the class name.\u001b[39;00m\n\u001b[1;32m    151\u001b[0m \u001b[38;5;124;03m\"\"\"\u001b[39;00m\n\u001b[1;32m    152\u001b[0m tf\u001b[38;5;241m.\u001b[39mModule\u001b[38;5;241m.\u001b[39m\u001b[38;5;21m__init__\u001b[39m(\u001b[38;5;28mself\u001b[39m, name\u001b[38;5;241m=\u001b[39mname)\n\u001b[0;32m--> 154\u001b[0m \u001b[38;5;28;43mself\u001b[39;49m\u001b[38;5;241;43m.\u001b[39;49m\u001b[43m_check_action_spec\u001b[49m\u001b[43m(\u001b[49m\u001b[43maction_spec\u001b[49m\u001b[43m)\u001b[49m\n\u001b[1;32m    156\u001b[0m net_observation_spec \u001b[38;5;241m=\u001b[39m time_step_spec\u001b[38;5;241m.\u001b[39mobservation\n\u001b[1;32m    157\u001b[0m critic_spec \u001b[38;5;241m=\u001b[39m (net_observation_spec, action_spec)\n",
      "File \u001b[0;32m/usr/local/lib/python3.8/site-packages/tf_agents/agents/sac/sac_agent.py:256\u001b[0m, in \u001b[0;36mSacAgent._check_action_spec\u001b[0;34m(self, action_spec)\u001b[0m\n\u001b[1;32m    254\u001b[0m \u001b[38;5;28;01mfor\u001b[39;00m spec \u001b[38;5;129;01min\u001b[39;00m flat_action_spec:\n\u001b[1;32m    255\u001b[0m   \u001b[38;5;28;01mif\u001b[39;00m spec\u001b[38;5;241m.\u001b[39mdtype\u001b[38;5;241m.\u001b[39mis_integer:\n\u001b[0;32m--> 256\u001b[0m     \u001b[38;5;28;01mraise\u001b[39;00m \u001b[38;5;167;01mNotImplementedError\u001b[39;00m(\n\u001b[1;32m    257\u001b[0m         \u001b[38;5;124m'\u001b[39m\u001b[38;5;124mSacAgent does not currently support discrete actions. \u001b[39m\u001b[38;5;124m'\u001b[39m\n\u001b[1;32m    258\u001b[0m         \u001b[38;5;124m'\u001b[39m\u001b[38;5;124mAction spec: \u001b[39m\u001b[38;5;132;01m{}\u001b[39;00m\u001b[38;5;124m'\u001b[39m\u001b[38;5;241m.\u001b[39mformat(action_spec))\n",
      "\u001b[0;31mNotImplementedError\u001b[0m: SacAgent does not currently support discrete actions. Action spec: BoundedTensorSpec(shape=(), dtype=tf.int64, name='action', minimum=array(0), maximum=array(10656))\n  In call to configurable 'SacAgent' (<class 'tf_agents.agents.sac.sac_agent.SacAgent'>)"
     ]
    }
   ],
   "source": [
    "with strategy.scope():\n",
    "    train_step = train_utils.create_train_step()\n",
    "\n",
    "    tf_agent = sac_agent.SacAgent(\n",
    "        time_step_spec,\n",
    "        action_spec,\n",
    "        actor_network=actor_net,\n",
    "        critic_network=critic_net,\n",
    "        actor_optimizer=tf.keras.optimizers.Adam(\n",
    "            learning_rate=actor_learning_rate),\n",
    "        critic_optimizer=tf.keras.optimizers.Adam(\n",
    "            learning_rate=critic_learning_rate),\n",
    "        alpha_optimizer=tf.keras.optimizers.Adam(\n",
    "            learning_rate=alpha_learning_rate),\n",
    "        target_update_tau=target_update_tau,\n",
    "        target_update_period=target_update_period,\n",
    "        td_errors_loss_fn=tf.math.squared_difference,\n",
    "        gamma=gamma,\n",
    "        reward_scale_factor=reward_scale_factor,\n",
    "        train_step_counter=train_step)\n",
    "\n",
    "    tf_agent.initialize()"
   ]
  },
  {
   "cell_type": "markdown",
   "id": "53541e73-28e8-4165-aca1-cf6bdd62b1a7",
   "metadata": {},
   "source": [
    "### 4) Define a Replay Buffer\n",
    "\n",
    "This is technically optional. The replay buffer will improve data efficiency, that is we will get more information from each game as the replay buffer lets us replay games to see different outcomes from certain states."
   ]
  },
  {
   "cell_type": "code",
   "execution_count": 11,
   "id": "fa2c7f5b-a199-416e-a322-0d3d2049452d",
   "metadata": {},
   "outputs": [
    {
     "data": {
      "text/plain": [
       "Trajectory(\n",
       "{'action': BoundedTensorSpec(shape=(), dtype=tf.int64, name='action', minimum=array(0), maximum=array(10656)),\n",
       " 'discount': BoundedTensorSpec(shape=(), dtype=tf.float32, name='discount', minimum=array(0., dtype=float32), maximum=array(1., dtype=float32)),\n",
       " 'next_step_type': TensorSpec(shape=(), dtype=tf.int32, name='step_type'),\n",
       " 'observation': BoundedTensorSpec(shape=(60,), dtype=tf.uint8, name='observation', minimum=array(0, dtype=uint8), maximum=array(29, dtype=uint8)),\n",
       " 'policy_info': (),\n",
       " 'reward': TensorSpec(shape=(), dtype=tf.float32, name='reward'),\n",
       " 'step_type': TensorSpec(shape=(), dtype=tf.int32, name='step_type')})"
      ]
     },
     "execution_count": 11,
     "metadata": {},
     "output_type": "execute_result"
    }
   ],
   "source": [
    "agent.collect_data_spec"
   ]
  },
  {
   "cell_type": "code",
   "execution_count": 12,
   "id": "3f858751-d7be-4b1c-b79d-a81ae3060764",
   "metadata": {},
   "outputs": [
    {
     "name": "stderr",
     "output_type": "stream",
     "text": [
      "[reverb/cc/platform/tfrecord_checkpointer.cc:150]  Initializing TFRecordCheckpointer in /tmp/tmprlz9zac4.\n",
      "[reverb/cc/platform/tfrecord_checkpointer.cc:386] Loading latest checkpoint from /tmp/tmprlz9zac4\n",
      "[reverb/cc/platform/default/server.cc:71] Started replay server on port 15931\n"
     ]
    }
   ],
   "source": [
    "# table_name = 'uniform_table'\n",
    "# replay_buffer_signature = tensor_spec.from_spec(\n",
    "#       agent.collect_data_spec)\n",
    "# replay_buffer_signature = tensor_spec.add_outer_dim(\n",
    "#     replay_buffer_signature)\n",
    "\n",
    "# table = reverb.Table(\n",
    "#     table_name,\n",
    "#     max_size=replay_buffer_max_length,\n",
    "#     sampler=reverb.selectors.Uniform(),\n",
    "#     remover=reverb.selectors.Fifo(),\n",
    "#     rate_limiter=reverb.rate_limiters.MinSize(1),\n",
    "#     signature=replay_buffer_signature)\n",
    "\n",
    "# reverb_server = reverb.Server([table])\n",
    "\n",
    "# replay_buffer = reverb_replay_buffer.ReverbReplayBuffer(\n",
    "#     agent.collect_data_spec,\n",
    "#     table_name=table_name,\n",
    "#     sequence_length=2,\n",
    "#     local_server=reverb_server)\n",
    "\n",
    "# rb_observer = reverb_utils.ReverbAddTrajectoryObserver(\n",
    "#   replay_buffer.py_client,\n",
    "#   table_name,\n",
    "#   sequence_length=2)"
   ]
  },
  {
   "cell_type": "markdown",
   "id": "3602ccb5-3a70-41f1-b0f0-4400add554e8",
   "metadata": {},
   "source": [
    "### 5) Train our agent"
   ]
  },
  {
   "cell_type": "code",
   "execution_count": 13,
   "id": "c4645968-4c8d-47a1-9feb-29fedaa21645",
   "metadata": {},
   "outputs": [],
   "source": [
    "time_step = env.reset()"
   ]
  },
  {
   "cell_type": "code",
   "execution_count": 19,
   "id": "193081fb-7b19-4d70-9629-0702627807ee",
   "metadata": {},
   "outputs": [],
   "source": [
    "from tf_agents.replay_buffers import tf_uniform_replay_buffer\n",
    "from tf_agents.drivers import dynamic_step_driver"
   ]
  },
  {
   "cell_type": "code",
   "execution_count": 16,
   "id": "a442e937-be3c-4cae-bab0-23c4ece8b81a",
   "metadata": {},
   "outputs": [],
   "source": [
    "\n",
    "\n",
    "replay_buffer_capacity = 1000\n",
    "\n",
    "replay_buffer = tf_uniform_replay_buffer.TFUniformReplayBuffer(\n",
    "    agent.collect_data_spec,\n",
    "    batch_size=train_env.batch_size,\n",
    "    max_length=replay_buffer_capacity)"
   ]
  },
  {
   "cell_type": "code",
   "execution_count": 21,
   "id": "89d4f4d8-8092-4ea1-9503-52affa206089",
   "metadata": {},
   "outputs": [],
   "source": [
    "replay_observer = [replay_buffer.add_batch]\n",
    "\n",
    "collect_steps_per_iteration = 10\n",
    "collect_op = dynamic_step_driver.DynamicStepDriver(\n",
    "  train_env,\n",
    "  agent.collect_policy,\n",
    "  observers=replay_observer,\n",
    "  num_steps=collect_steps_per_iteration).run()"
   ]
  },
  {
   "cell_type": "code",
   "execution_count": 24,
   "id": "bfbd0533-505d-463e-a598-4441f5ff1b44",
   "metadata": {},
   "outputs": [],
   "source": [
    "def compute_avg_return(environment, policy, num_episodes=10):\n",
    "\n",
    "    total_return = 0.0\n",
    "    for _ in range(num_episodes):\n",
    "\n",
    "        time_step = environment.reset()\n",
    "        episode_return = 0.0\n",
    "\n",
    "        while not time_step.is_last():\n",
    "            action_step = policy.action(time_step)\n",
    "            time_step = environment.step(action_step.action)\n",
    "            episode_return += time_step.reward\n",
    "        total_return += episode_return\n",
    "\n",
    "    avg_return = total_return / num_episodes\n",
    "    return avg_return.numpy()[0]"
   ]
  },
  {
   "cell_type": "code",
   "execution_count": 78,
   "id": "b6b58b96-c9d0-4406-a034-d35afd386dc7",
   "metadata": {
    "scrolled": true,
    "tags": []
   },
   "outputs": [
    {
     "name": "stderr",
     "output_type": "stream",
     "text": [
      "  5%|▌         | 5001/100000 [11:18<5:34:40,  4.73it/s]"
     ]
    },
    {
     "name": "stdout",
     "output_type": "stream",
     "text": [
      "step = 5000: Average Return = 144.0\n"
     ]
    },
    {
     "name": "stderr",
     "output_type": "stream",
     "text": [
      " 10%|▉         | 9999/100000 [22:38<3:17:28,  7.60it/s]"
     ]
    },
    {
     "name": "stdout",
     "output_type": "stream",
     "text": [
      "step = 10000: loss = 1589.5849609375\n"
     ]
    },
    {
     "name": "stderr",
     "output_type": "stream",
     "text": [
      " 10%|█         | 10001/100000 [22:39<5:19:44,  4.69it/s]"
     ]
    },
    {
     "name": "stdout",
     "output_type": "stream",
     "text": [
      "step = 10000: Average Return = 106.5\n"
     ]
    },
    {
     "name": "stderr",
     "output_type": "stream",
     "text": [
      " 15%|█▌        | 15001/100000 [33:56<5:09:17,  4.58it/s]"
     ]
    },
    {
     "name": "stdout",
     "output_type": "stream",
     "text": [
      "step = 15000: Average Return = 139.60000610351562\n"
     ]
    },
    {
     "name": "stderr",
     "output_type": "stream",
     "text": [
      " 20%|█▉        | 19999/100000 [45:16<2:58:45,  7.46it/s]"
     ]
    },
    {
     "name": "stdout",
     "output_type": "stream",
     "text": [
      "step = 20000: loss = 113190.8125\n"
     ]
    },
    {
     "name": "stderr",
     "output_type": "stream",
     "text": [
      " 20%|██        | 20001/100000 [45:16<4:37:31,  4.80it/s]"
     ]
    },
    {
     "name": "stdout",
     "output_type": "stream",
     "text": [
      "step = 20000: Average Return = 196.1999969482422\n"
     ]
    },
    {
     "name": "stderr",
     "output_type": "stream",
     "text": [
      " 25%|██▌       | 25001/100000 [56:35<4:21:51,  4.77it/s]"
     ]
    },
    {
     "name": "stdout",
     "output_type": "stream",
     "text": [
      "step = 25000: Average Return = 150.1999969482422\n"
     ]
    },
    {
     "name": "stderr",
     "output_type": "stream",
     "text": [
      " 30%|██▉       | 29999/100000 [1:07:55<2:37:07,  7.43it/s]"
     ]
    },
    {
     "name": "stdout",
     "output_type": "stream",
     "text": [
      "step = 30000: loss = 9947.193359375\n"
     ]
    },
    {
     "name": "stderr",
     "output_type": "stream",
     "text": [
      " 30%|███       | 30001/100000 [1:07:55<4:10:13,  4.66it/s]"
     ]
    },
    {
     "name": "stdout",
     "output_type": "stream",
     "text": [
      "step = 30000: Average Return = 189.1999969482422\n"
     ]
    },
    {
     "name": "stderr",
     "output_type": "stream",
     "text": [
      " 35%|███▌      | 35001/100000 [1:19:15<3:50:54,  4.69it/s]"
     ]
    },
    {
     "name": "stdout",
     "output_type": "stream",
     "text": [
      "step = 35000: Average Return = 209.0\n"
     ]
    },
    {
     "name": "stderr",
     "output_type": "stream",
     "text": [
      " 40%|███▉      | 39999/100000 [1:30:35<2:12:16,  7.56it/s]"
     ]
    },
    {
     "name": "stdout",
     "output_type": "stream",
     "text": [
      "step = 40000: loss = 3950.211181640625\n"
     ]
    },
    {
     "name": "stderr",
     "output_type": "stream",
     "text": [
      " 40%|████      | 40001/100000 [1:30:36<3:32:52,  4.70it/s]"
     ]
    },
    {
     "name": "stdout",
     "output_type": "stream",
     "text": [
      "step = 40000: Average Return = 324.79998779296875\n"
     ]
    },
    {
     "name": "stderr",
     "output_type": "stream",
     "text": [
      " 45%|████▌     | 45001/100000 [1:41:55<3:10:04,  4.82it/s]"
     ]
    },
    {
     "name": "stdout",
     "output_type": "stream",
     "text": [
      "step = 45000: Average Return = 115.69999694824219\n"
     ]
    },
    {
     "name": "stderr",
     "output_type": "stream",
     "text": [
      " 50%|████▉     | 49999/100000 [1:53:09<1:52:22,  7.42it/s]"
     ]
    },
    {
     "name": "stdout",
     "output_type": "stream",
     "text": [
      "step = 50000: loss = 2345.0908203125\n"
     ]
    },
    {
     "name": "stderr",
     "output_type": "stream",
     "text": [
      " 50%|█████     | 50001/100000 [1:53:10<2:55:49,  4.74it/s]"
     ]
    },
    {
     "name": "stdout",
     "output_type": "stream",
     "text": [
      "step = 50000: Average Return = 225.8000030517578\n"
     ]
    },
    {
     "name": "stderr",
     "output_type": "stream",
     "text": [
      " 55%|█████▌    | 55001/100000 [2:04:27<2:35:49,  4.81it/s]"
     ]
    },
    {
     "name": "stdout",
     "output_type": "stream",
     "text": [
      "step = 55000: Average Return = 126.9000015258789\n"
     ]
    },
    {
     "name": "stderr",
     "output_type": "stream",
     "text": [
      " 60%|█████▉    | 59999/100000 [2:15:44<1:28:18,  7.55it/s]"
     ]
    },
    {
     "name": "stdout",
     "output_type": "stream",
     "text": [
      "step = 60000: loss = 2896.36572265625\n"
     ]
    },
    {
     "name": "stderr",
     "output_type": "stream",
     "text": [
      " 60%|██████    | 60001/100000 [2:15:45<2:18:14,  4.82it/s]"
     ]
    },
    {
     "name": "stdout",
     "output_type": "stream",
     "text": [
      "step = 60000: Average Return = 303.70001220703125\n"
     ]
    },
    {
     "name": "stderr",
     "output_type": "stream",
     "text": [
      " 65%|██████▌   | 65001/100000 [2:27:03<2:03:07,  4.74it/s]"
     ]
    },
    {
     "name": "stdout",
     "output_type": "stream",
     "text": [
      "step = 65000: Average Return = 165.6999969482422\n"
     ]
    },
    {
     "name": "stderr",
     "output_type": "stream",
     "text": [
      " 70%|██████▉   | 69999/100000 [2:38:21<1:10:19,  7.11it/s]"
     ]
    },
    {
     "name": "stdout",
     "output_type": "stream",
     "text": [
      "step = 70000: loss = 3536.06005859375\n"
     ]
    },
    {
     "name": "stderr",
     "output_type": "stream",
     "text": [
      " 70%|███████   | 70001/100000 [2:38:22<1:48:32,  4.61it/s]"
     ]
    },
    {
     "name": "stdout",
     "output_type": "stream",
     "text": [
      "step = 70000: Average Return = 125.80000305175781\n"
     ]
    },
    {
     "name": "stderr",
     "output_type": "stream",
     "text": [
      " 75%|███████▌  | 75001/100000 [2:49:46<1:29:04,  4.68it/s]"
     ]
    },
    {
     "name": "stdout",
     "output_type": "stream",
     "text": [
      "step = 75000: Average Return = 183.8000030517578\n"
     ]
    },
    {
     "name": "stderr",
     "output_type": "stream",
     "text": [
      " 80%|███████▉  | 79999/100000 [3:01:06<47:15,  7.05it/s]  "
     ]
    },
    {
     "name": "stdout",
     "output_type": "stream",
     "text": [
      "step = 80000: loss = 1789.4822998046875\n"
     ]
    },
    {
     "name": "stderr",
     "output_type": "stream",
     "text": [
      " 80%|████████  | 80001/100000 [3:01:06<1:14:17,  4.49it/s]"
     ]
    },
    {
     "name": "stdout",
     "output_type": "stream",
     "text": [
      "step = 80000: Average Return = 221.3000030517578\n"
     ]
    },
    {
     "name": "stderr",
     "output_type": "stream",
     "text": [
      " 85%|████████▌ | 85001/100000 [3:12:28<50:57,  4.91it/s]  "
     ]
    },
    {
     "name": "stdout",
     "output_type": "stream",
     "text": [
      "step = 85000: Average Return = 164.8000030517578\n"
     ]
    },
    {
     "name": "stderr",
     "output_type": "stream",
     "text": [
      " 90%|████████▉ | 89999/100000 [3:23:38<22:37,  7.37it/s]  "
     ]
    },
    {
     "name": "stdout",
     "output_type": "stream",
     "text": [
      "step = 90000: loss = 4584.96728515625\n"
     ]
    },
    {
     "name": "stderr",
     "output_type": "stream",
     "text": [
      " 90%|█████████ | 90001/100000 [3:23:39<35:09,  4.74it/s]"
     ]
    },
    {
     "name": "stdout",
     "output_type": "stream",
     "text": [
      "step = 90000: Average Return = 235.60000610351562\n"
     ]
    },
    {
     "name": "stderr",
     "output_type": "stream",
     "text": [
      " 95%|█████████▌| 95001/100000 [3:34:49<17:40,  4.71it/s]"
     ]
    },
    {
     "name": "stdout",
     "output_type": "stream",
     "text": [
      "step = 95000: Average Return = 158.89999389648438\n"
     ]
    },
    {
     "name": "stderr",
     "output_type": "stream",
     "text": [
      "100%|█████████▉| 99999/100000 [3:45:59<00:00,  7.58it/s]"
     ]
    },
    {
     "name": "stdout",
     "output_type": "stream",
     "text": [
      "step = 100000: loss = 8874.814453125\n"
     ]
    },
    {
     "name": "stderr",
     "output_type": "stream",
     "text": [
      "100%|██████████| 100000/100000 [3:46:00<00:00,  7.37it/s]"
     ]
    },
    {
     "name": "stdout",
     "output_type": "stream",
     "text": [
      "step = 100000: Average Return = 114.19999694824219\n"
     ]
    },
    {
     "name": "stderr",
     "output_type": "stream",
     "text": [
      "\n"
     ]
    }
   ],
   "source": [
    "num_iterations = 100000 # @param {type:\"integer\"}\n",
    "\n",
    "initial_collect_steps = 100  # @param {type:\"integer\"}\n",
    "collect_steps_per_iteration = 1 # @param {type:\"integer\"}\n",
    "replay_buffer_max_length = 10000  # @param {type:\"integer\"}\n",
    "\n",
    "batch_size = 64  # @param {type:\"integer\"}\n",
    "learning_rate = 1e-3  # @param {type:\"number\"}\n",
    "log_interval = 10000  # @param {type:\"integer\"}\n",
    "\n",
    "num_eval_episodes = 10  # @param {type:\"integer\"}\n",
    "eval_interval = 5000  # @param {type:\"integer\"}\n",
    "\n",
    "\n",
    "\n",
    "# (Optional) Optimize by wrapping some of the code in a graph using TF function.\n",
    "agent.train = common.function(agent.train)\n",
    "\n",
    "# Reset the train step.\n",
    "agent.train_step_counter.assign(0)\n",
    "\n",
    "# Evaluate the agent's policy once before training.\n",
    "avg_return = compute_avg_return(eval_env, agent.policy, num_eval_episodes)\n",
    "returns = [avg_return]\n",
    "\n",
    "# Reset the environment.\n",
    "time_step = train_env.reset()\n",
    "\n",
    "# Create a driver to collect experience.\n",
    "collect_steps_per_iteration = 10\n",
    "collect_op = dynamic_step_driver.DynamicStepDriver(\n",
    "  train_env,\n",
    "  agent.collect_policy,\n",
    "  observers=replay_observer,\n",
    "  num_steps=collect_steps_per_iteration)\n",
    "\n",
    "dataset = replay_buffer.as_dataset(\n",
    "    num_parallel_calls=3,\n",
    "    sample_batch_size=batch_size,\n",
    "    num_steps=2)\n",
    "\n",
    "iterator = iter(dataset)\n",
    "\n",
    "for _ in tqdm(range(num_iterations)):\n",
    "\n",
    "    # Collect a few steps and save to the replay buffer.\n",
    "    time_step, _ = collect_op.run(time_step)\n",
    "\n",
    "    # Sample a batch of data from the buffer and update the agent's network.\n",
    "    # print(time_step)\n",
    "    experience, unused_info = next(iterator)\n",
    "    # print(experience)\n",
    "    train_loss = agent.train(experience).loss\n",
    "    # print(train_loss)\n",
    "    step = agent.train_step_counter.numpy()\n",
    "    # print(step)\n",
    "    if step % log_interval == 0:\n",
    "        print('step = {0}: loss = {1}'.format(step, train_loss))\n",
    "\n",
    "    if step % eval_interval == 0:\n",
    "        avg_return = compute_avg_return(eval_env, agent.policy, num_eval_episodes)\n",
    "        print('step = {0}: Average Return = {1}'.format(step, avg_return))\n",
    "        returns.append(avg_return)"
   ]
  },
  {
   "cell_type": "markdown",
   "id": "65270696-356d-4030-820b-becb8e4de0b6",
   "metadata": {},
   "source": [
    "### 6) Evaluate our agent\n",
    "\n",
    "We need a way to see how good our policy is performing on our environment"
   ]
  },
  {
   "cell_type": "code",
   "execution_count": 31,
   "id": "81252ce2-e026-45f9-beb3-ec39be014287",
   "metadata": {},
   "outputs": [],
   "source": [
    "import matplotlib.pyplot as plt"
   ]
  },
  {
   "cell_type": "code",
   "execution_count": 79,
   "id": "fb8f7e19-7d9d-4094-978d-df08f525c691",
   "metadata": {},
   "outputs": [
    {
     "data": {
      "text/plain": [
       "Text(0.5, 0, 'Iterations')"
      ]
     },
     "execution_count": 79,
     "metadata": {},
     "output_type": "execute_result"
    },
    {
     "data": {
      "image/png": "[encoded data removed]",
      "text/plain": [
       "<Figure size 432x288 with 1 Axes>"
      ]
     },
     "metadata": {
      "needs_background": "light"
     },
     "output_type": "display_data"
    }
   ],
   "source": [
    "iterations = range(0, num_iterations + 1, eval_interval)\n",
    "plt.plot(iterations, returns)\n",
    "plt.ylabel('Average Return')\n",
    "plt.xlabel('Iterations')\n",
    "# plt.ylim(top=250)"
   ]
  },
  {
   "cell_type": "code",
   "execution_count": 14,
   "id": "1f7ce47a-97d9-4f51-9cd7-d9fbfcd4550f",
   "metadata": {},
   "outputs": [],
   "source": [
    "def test_env(environment, policy, num_episodes=10):\n",
    "\n",
    "    total_return = 0.0\n",
    "\n",
    "    time_step = environment.reset()\n",
    "    episode_return = 0.0\n",
    "\n",
    "    while not time_step.is_last():\n",
    "        action_step = policy.action(time_step)\n",
    "        time_step = environment.step(action_step.action)\n",
    "        episode_return += time_step.reward\n",
    "    total_return += episode_return\n",
    "\n",
    "    avg_return = total_return / num_episodes\n",
    "    return avg_return.numpy()[0]"
   ]
  },
  {
   "cell_type": "code",
   "execution_count": 92,
   "id": "abe87f4d-fe50-418a-ae24-7f111a405df0",
   "metadata": {},
   "outputs": [],
   "source": [
    "time_step = eval_env.reset()"
   ]
  },
  {
   "cell_type": "code",
   "execution_count": 93,
   "id": "c9ce8aa6-88b8-4971-a82b-042e946ce504",
   "metadata": {},
   "outputs": [
    {
     "data": {
      "text/plain": [
       "<tf.Tensor: shape=(1, 60), dtype=uint8, numpy=\n",
       "array([[0, 0, 0, 0, 0, 0, 0, 0, 0, 0, 0, 0, 0, 0, 0, 0, 0, 0, 0, 0, 0, 0,\n",
       "        0, 0, 0, 0, 0, 0, 0, 0, 0, 0, 0, 0, 0, 0, 0, 0, 0, 0, 0, 0, 0, 0,\n",
       "        0, 0, 0, 0, 0, 0, 0, 0, 0, 0, 0, 0, 0, 0, 0, 0]], dtype=uint8)>"
      ]
     },
     "execution_count": 93,
     "metadata": {},
     "output_type": "execute_result"
    }
   ],
   "source": [
    "time_step[3]"
   ]
  },
  {
   "cell_type": "code",
   "execution_count": 94,
   "id": "4cbfc352-f350-4c7c-ab14-8831031ecf55",
   "metadata": {},
   "outputs": [
    {
     "data": {
      "text/plain": [
       "<tf.Tensor: shape=(1,), dtype=bool, numpy=array([ True])>"
      ]
     },
     "execution_count": 94,
     "metadata": {},
     "output_type": "execute_result"
    }
   ],
   "source": [
    "time_step.is_first()"
   ]
  },
  {
   "cell_type": "code",
   "execution_count": 95,
   "id": "6c5f59ca-9b43-4f13-a6c0-ef7550b4f390",
   "metadata": {},
   "outputs": [],
   "source": [
    "action_step = agent.policy.action(time_step)"
   ]
  },
  {
   "cell_type": "code",
   "execution_count": 96,
   "id": "529ffd05-b77a-4279-b4e9-619ec0153936",
   "metadata": {},
   "outputs": [
    {
     "data": {
      "text/plain": [
       "PolicyStep(action=<tf.Tensor: shape=(1,), dtype=int64, numpy=array([524])>, state=(), info=())"
      ]
     },
     "execution_count": 96,
     "metadata": {},
     "output_type": "execute_result"
    }
   ],
   "source": [
    "action_step"
   ]
  },
  {
   "cell_type": "code",
   "execution_count": 97,
   "id": "64649a01-f95b-4344-96c3-6fd81e41aed2",
   "metadata": {},
   "outputs": [
    {
     "data": {
      "text/plain": [
       "'aurar'"
      ]
     },
     "execution_count": 97,
     "metadata": {},
     "output_type": "execute_result"
    }
   ],
   "source": [
    "gym_train_env.valid_words[int(action_step.action.numpy())]"
   ]
  },
  {
   "cell_type": "code",
   "execution_count": 98,
   "id": "dd6f90e8-d464-46f5-a22d-964fa3d2066e",
   "metadata": {},
   "outputs": [],
   "source": [
    "time_step = eval_env.step(action_step.action)"
   ]
  },
  {
   "cell_type": "code",
   "execution_count": 99,
   "id": "f0be1ef1-86cd-4f57-a035-6900d860fa10",
   "metadata": {},
   "outputs": [
    {
     "data": {
      "text/plain": [
       "array([[[ 1, 21, 18,  1, 18],\n",
       "        [ 0,  0,  0,  0,  0],\n",
       "        [ 0,  0,  0,  0,  0],\n",
       "        [ 0,  0,  0,  0,  0],\n",
       "        [ 0,  0,  0,  0,  0],\n",
       "        [ 0,  0,  0,  0,  0]],\n",
       "\n",
       "       [[27, 29, 27, 27, 27],\n",
       "        [ 0,  0,  0,  0,  0],\n",
       "        [ 0,  0,  0,  0,  0],\n",
       "        [ 0,  0,  0,  0,  0],\n",
       "        [ 0,  0,  0,  0,  0],\n",
       "        [ 0,  0,  0,  0,  0]]], dtype=uint8)"
      ]
     },
     "execution_count": 99,
     "metadata": {},
     "output_type": "execute_result"
    }
   ],
   "source": [
    "time_step[3].numpy().reshape((2,6,5))"
   ]
  },
  {
   "cell_type": "code",
   "execution_count": 100,
   "id": "c8b36f2c-5588-43f2-a7a8-af18ff07de5d",
   "metadata": {},
   "outputs": [],
   "source": [
    "action_step = agent.policy.action(time_step)"
   ]
  },
  {
   "cell_type": "code",
   "execution_count": 101,
   "id": "b430b10a-5c75-4cbc-b03e-94a34f053670",
   "metadata": {},
   "outputs": [
    {
     "data": {
      "text/plain": [
       "'waits'"
      ]
     },
     "execution_count": 101,
     "metadata": {},
     "output_type": "execute_result"
    }
   ],
   "source": [
    "gym_train_env.valid_words[int(action_step.action.numpy())]"
   ]
  },
  {
   "cell_type": "code",
   "execution_count": 103,
   "id": "b195f04b-8efc-4087-a722-8e91300090b7",
   "metadata": {},
   "outputs": [],
   "source": [
    "time_step = eval_env.step(action_step.action)"
   ]
  },
  {
   "cell_type": "code",
   "execution_count": 104,
   "id": "b763824b-b31d-4475-8d1b-daeb48b975ca",
   "metadata": {},
   "outputs": [
    {
     "data": {
      "text/plain": [
       "array([[[ 1, 21, 18,  1, 18],\n",
       "        [23,  1,  9, 20, 19],\n",
       "        [ 0,  0,  0,  0,  0],\n",
       "        [ 0,  0,  0,  0,  0],\n",
       "        [ 0,  0,  0,  0,  0],\n",
       "        [ 0,  0,  0,  0,  0]],\n",
       "\n",
       "       [[27, 29, 27, 27, 27],\n",
       "        [27, 27, 27, 28, 27],\n",
       "        [ 0,  0,  0,  0,  0],\n",
       "        [ 0,  0,  0,  0,  0],\n",
       "        [ 0,  0,  0,  0,  0],\n",
       "        [ 0,  0,  0,  0,  0]]], dtype=uint8)"
      ]
     },
     "execution_count": 104,
     "metadata": {},
     "output_type": "execute_result"
    }
   ],
   "source": [
    "time_step[3].numpy().reshape((2,6,5))"
   ]
  },
  {
   "cell_type": "code",
   "execution_count": null,
   "id": "7fba8d65-840f-4d97-8343-30329ccffb94",
   "metadata": {},
   "outputs": [],
   "source": [
    "action_step = agent.policy.action(time_step)"
   ]
  },
  {
   "cell_type": "code",
   "execution_count": null,
   "id": "5061ae79-48d5-4676-b5d7-1301e9354e4e",
   "metadata": {},
   "outputs": [],
   "source": [
    "gym_train_env.valid_words[int(action_step.action.numpy())]"
   ]
  },
  {
   "cell_type": "code",
   "execution_count": 91,
   "id": "7d45a5e3-fc36-4d6e-b7ac-9cc68b277000",
   "metadata": {},
   "outputs": [],
   "source": [
    "time_step = eval_env.step(action_step.action)"
   ]
  },
  {
   "cell_type": "code",
   "execution_count": 69,
   "id": "7a229111-1e95-4b89-b4ca-cb808eb3d482",
   "metadata": {},
   "outputs": [
    {
     "data": {
      "text/plain": [
       "array([[[ 3,  1, 13, 21, 19],\n",
       "        [ 4,  1, 25,  1, 14],\n",
       "        [ 0,  0,  0,  0,  0],\n",
       "        [ 0,  0,  0,  0,  0],\n",
       "        [ 0,  0,  0,  0,  0],\n",
       "        [ 0,  0,  0,  0,  0]],\n",
       "\n",
       "       [[27, 27, 27, 27, 29],\n",
       "        [28, 27, 27, 27, 27],\n",
       "        [ 0,  0,  0,  0,  0],\n",
       "        [ 0,  0,  0,  0,  0],\n",
       "        [ 0,  0,  0,  0,  0],\n",
       "        [ 0,  0,  0,  0,  0]]], dtype=uint8)"
      ]
     },
     "execution_count": 69,
     "metadata": {},
     "output_type": "execute_result"
    }
   ],
   "source": [
    "time_step[3].numpy().reshape((2,6,5))"
   ]
  },
  {
   "cell_type": "code",
   "execution_count": 70,
   "id": "7440e175-3bc9-452c-96ea-49034306c7b7",
   "metadata": {},
   "outputs": [],
   "source": [
    "action_step = agent.policy.action(time_step)"
   ]
  },
  {
   "cell_type": "code",
   "execution_count": 71,
   "id": "09437740-15e9-427f-a017-1c4eaa73cf59",
   "metadata": {},
   "outputs": [
    {
     "data": {
      "text/plain": [
       "'dayan'"
      ]
     },
     "execution_count": 71,
     "metadata": {},
     "output_type": "execute_result"
    }
   ],
   "source": [
    "gym_train_env.valid_words[int(action_step.action.numpy())]"
   ]
  },
  {
   "cell_type": "code",
   "execution_count": 73,
   "id": "3a0fc5a4-881f-4c9a-af4b-da8b20d5dbc8",
   "metadata": {},
   "outputs": [
    {
     "data": {
      "text/plain": [
       "TimeStep(\n",
       "{'discount': <tf.Tensor: shape=(1,), dtype=float32, numpy=array([1.], dtype=float32)>,\n",
       " 'observation': <tf.Tensor: shape=(1, 60), dtype=uint8, numpy=\n",
       "array([[ 3,  1, 13, 21, 19,  4,  1, 25,  1, 14,  4,  1, 25,  1, 14,  0,\n",
       "         0,  0,  0,  0,  0,  0,  0,  0,  0,  0,  0,  0,  0,  0, 27, 27,\n",
       "        27, 27, 29, 28, 27, 27, 27, 27, 28, 27, 27, 27, 27,  0,  0,  0,\n",
       "         0,  0,  0,  0,  0,  0,  0,  0,  0,  0,  0,  0]], dtype=uint8)>,\n",
       " 'reward': <tf.Tensor: shape=(1,), dtype=float32, numpy=array([1.], dtype=float32)>,\n",
       " 'step_type': <tf.Tensor: shape=(1,), dtype=int32, numpy=array([1], dtype=int32)>})"
      ]
     },
     "execution_count": 73,
     "metadata": {},
     "output_type": "execute_result"
    }
   ],
   "source": [
    "time_step = eval_env.step(action_step.action)\n",
    "time_step"
   ]
  },
  {
   "cell_type": "code",
   "execution_count": 74,
   "id": "8a41f8c7-8918-451f-a586-d534bcaa73be",
   "metadata": {},
   "outputs": [
    {
     "data": {
      "text/plain": [
       "array([[[ 3,  1, 13, 21, 19],\n",
       "        [ 4,  1, 25,  1, 14],\n",
       "        [ 4,  1, 25,  1, 14],\n",
       "        [ 0,  0,  0,  0,  0],\n",
       "        [ 0,  0,  0,  0,  0],\n",
       "        [ 0,  0,  0,  0,  0]],\n",
       "\n",
       "       [[27, 27, 27, 27, 29],\n",
       "        [28, 27, 27, 27, 27],\n",
       "        [28, 27, 27, 27, 27],\n",
       "        [ 0,  0,  0,  0,  0],\n",
       "        [ 0,  0,  0,  0,  0],\n",
       "        [ 0,  0,  0,  0,  0]]], dtype=uint8)"
      ]
     },
     "execution_count": 74,
     "metadata": {},
     "output_type": "execute_result"
    }
   ],
   "source": [
    "time_step[3].numpy().reshape((2,6,5))"
   ]
  },
  {
   "cell_type": "code",
   "execution_count": 75,
   "id": "d395db79-536d-4c5c-b0e6-76a4f2a33818",
   "metadata": {},
   "outputs": [],
   "source": [
    "action_step = agent.policy.action(time_step)"
   ]
  },
  {
   "cell_type": "code",
   "execution_count": 76,
   "id": "2297854e-da7b-4971-bfba-24b94765f19e",
   "metadata": {},
   "outputs": [
    {
     "data": {
      "text/plain": [
       "'sanes'"
      ]
     },
     "execution_count": 76,
     "metadata": {},
     "output_type": "execute_result"
    }
   ],
   "source": [
    "gym_train_env.valid_words[int(action_step.action.numpy())]"
   ]
  },
  {
   "cell_type": "code",
   "execution_count": 77,
   "id": "3e27816c-8721-4aa6-95b1-3d3cb95eda1d",
   "metadata": {},
   "outputs": [
    {
     "data": {
      "text/plain": [
       "TimeStep(\n",
       "{'discount': <tf.Tensor: shape=(1,), dtype=float32, numpy=array([1.], dtype=float32)>,\n",
       " 'observation': <tf.Tensor: shape=(1, 60), dtype=uint8, numpy=\n",
       "array([[ 3,  1, 13, 21, 19,  4,  1, 25,  1, 14,  4,  1, 25,  1, 14, 19,\n",
       "         1, 14,  5, 19,  0,  0,  0,  0,  0,  0,  0,  0,  0,  0, 27, 27,\n",
       "        27, 27, 29, 28, 27, 27, 27, 27, 28, 27, 27, 27, 27, 28, 27, 27,\n",
       "        28, 29,  0,  0,  0,  0,  0,  0,  0,  0,  0,  0]], dtype=uint8)>,\n",
       " 'reward': <tf.Tensor: shape=(1,), dtype=float32, numpy=array([52.], dtype=float32)>,\n",
       " 'step_type': <tf.Tensor: shape=(1,), dtype=int32, numpy=array([1], dtype=int32)>})"
      ]
     },
     "execution_count": 77,
     "metadata": {},
     "output_type": "execute_result"
    }
   ],
   "source": [
    "time_step = eval_env.step(action_step.action)\n",
    "time_step"
   ]
  },
  {
   "cell_type": "code",
   "execution_count": null,
   "id": "837dcafc-26f4-45e4-8ec0-d735ab908368",
   "metadata": {},
   "outputs": [],
   "source": []
  }
 ],
 "metadata": {
  "kernelspec": {
   "display_name": "Python 3 (ipykernel)",
   "language": "python",
   "name": "python3"
  },
  "language_info": {
   "codemirror_mode": {
    "name": "ipython",
    "version": 3
   },
   "file_extension": ".py",
   "mimetype": "text/x-python",
   "name": "python",
   "nbconvert_exporter": "python",
   "pygments_lexer": "ipython3",
   "version": "3.8.12"
  }
 },
 "nbformat": 4,
 "nbformat_minor": 5
}
